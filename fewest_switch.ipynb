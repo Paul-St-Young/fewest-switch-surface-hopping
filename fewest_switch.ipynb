{
 "cells": [
  {
   "cell_type": "code",
   "execution_count": 1,
   "metadata": {
    "collapsed": true
   },
   "outputs": [],
   "source": [
    "import numpy as np\n",
    "import scipy.interpolate as interp\n",
    "import matplotlib.pyplot as plt\n",
    "%matplotlib inline"
   ]
  },
  {
   "cell_type": "code",
   "execution_count": 2,
   "metadata": {
    "collapsed": false
   },
   "outputs": [
    {
     "data": {
      "image/png": "[encoded data removed]",
      "text/plain": [
       "<matplotlib.figure.Figure at 0x7fab38bccf50>"
      ]
     },
     "metadata": {},
     "output_type": "display_data"
    }
   ],
   "source": [
    "# load data\n",
    "data_folder = \"./data/\"\n",
    "xgrid_data,e1_data = np.loadtxt(data_folder+\"Tully-model1-e1.dat\").T\n",
    "xgrid_data,e2_data = np.loadtxt(data_folder+\"Tully-model1-e2.dat\").T\n",
    "xgrid_data,d12_data = np.loadtxt(data_folder+\"Tully-model1-d12.dat\").T\n",
    "\n",
    "# interpolate\n",
    "e1fit  = interp.splrep(xgrid_data,e1_data)\n",
    "e2fit  = interp.splrep(xgrid_data,e2_data)\n",
    "d12fit = interp.splrep(xgrid_data,d12_data)\n",
    "\n",
    "e1 = lambda x: interp.splev(x,e1fit)\n",
    "e2 = lambda x: interp.splev(x,e2fit)\n",
    "d12 = lambda x: interp.splev(x,d12fit)\n",
    "\n",
    "# check splines\n",
    "pos_min = -10.0\n",
    "pos_max = 10.0\n",
    "\n",
    "xfine = np.linspace(-10,10,1000)\n",
    "\n",
    "fig = plt.figure()\n",
    "ax  = fig.add_subplot(111)\n",
    "ax.set_xlabel(\"Ion Position (x)\",fontsize=14)\n",
    "ax.set_ylabel(\"Potential and Coupling\",fontsize=14)\n",
    "\n",
    "ax.plot(xfine,e1(xfine),\"-\",lw=2,label=\"$\\epsilon_1$\")\n",
    "ax.plot(xfine,e2(xfine),\"--\",lw=2,label=\"$\\epsilon_2$\")\n",
    "ax.plot(xfine,-d12(xfine)/50.,\"-.\",lw=2,label=\"$-d_{12}/50$\")\n",
    "\n",
    "ax.legend(fontsize=14,loc=\"upper right\")\n",
    "fig.tight_layout()\n",
    "#plt.savefig(\"single.eps\")"
   ]
  },
  {
   "cell_type": "code",
   "execution_count": 3,
   "metadata": {
    "collapsed": true
   },
   "outputs": [],
   "source": [
    "# calculate forces on surfaces\n",
    "e1der = lambda x: interp.splev(x, interp.splder(e1fit,1) )\n",
    "e2der = lambda x: interp.splev(x, interp.splder(e2fit,1) )"
   ]
  },
  {
   "cell_type": "code",
   "execution_count": 9,
   "metadata": {
    "collapsed": true
   },
   "outputs": [],
   "source": [
    "# !! zoom in to avoid spline edge\n",
    "pos_min /= 2.\n",
    "pos_max /= 2."
   ]
  },
  {
   "cell_type": "code",
   "execution_count": 10,
   "metadata": {
    "collapsed": true
   },
   "outputs": [],
   "source": [
    "def run1(x0,v0,c1,nstep,dt=0.1,m=2000.):\n",
    "\n",
    "    hbar = 1.0\n",
    "    \n",
    "    # initialize electronic state\n",
    "    c2 = np.sqrt(1.-c1*c1)\n",
    "    a11 = c1*np.conj(c1)\n",
    "    a12 = c1*np.conj(c2)\n",
    "    a21 = np.conj(a12)\n",
    "    a22 = c2*np.conj(c2)\n",
    "\n",
    "    # initialize ion\n",
    "    pos = x0\n",
    "    vel = v0\n",
    "\n",
    "    # make room for scalar quantities\n",
    "    pos_trace = np.zeros(nstep)\n",
    "    vel_trace = np.zeros(nstep)\n",
    "    a11_trace  = np.zeros(nstep)\n",
    "    a22_trace  = np.zeros(nstep)\n",
    "    energy_trace = np.zeros(nstep)\n",
    "    pot_trace = np.zeros(nstep)\n",
    "    prob_trace = np.zeros(nstep)\n",
    "\n",
    "    on_surface1 = True\n",
    "    surface = e1\n",
    "    surface_der = e1der\n",
    "    switch_prob = 0.0\n",
    "\n",
    "    for t in range(nstep):\n",
    "\n",
    "        # record scalar quantities\n",
    "        pos_trace[t] = pos\n",
    "        vel_trace[t] = vel\n",
    "        pot_trace[t] = surface(pos)\n",
    "        energy_trace[t] = 0.5*m*vel*vel + surface(pos)\n",
    "        \n",
    "        a11_trace[t] = a11.real\n",
    "        a22_trace[t] = a22.real\n",
    "        prob_trace[t] = switch_prob.real\n",
    "\n",
    "        # propagate electronic state forward\n",
    "        c1 += dt*(c1*e1(pos)/(1j*hbar) - c2*vel*d12(pos))\n",
    "        c2 += dt*(c2*e2(pos)/(1j*hbar) + c1*vel*d12(pos))\n",
    "\n",
    "        # find new electronic state and change rate\n",
    "        a11 = c1*np.conj(c1)\n",
    "        a12 = c1*np.conj(c2)\n",
    "        a21 = np.conj(a12)\n",
    "        a22 = c2*np.conj(c2)\n",
    "\n",
    "        b12 = -2.*(np.conj(a12)*vel*d12(pos)).real\n",
    "        b21 =  2.*(np.conj(a21)*vel*d12(pos)).real\n",
    "        \n",
    "        # calculate hop probability\n",
    "        if on_surface1:\n",
    "            switch_prob = dt*b21/a11\n",
    "        else:\n",
    "            switch_prob = dt*b12/a22\n",
    "        # end if\n",
    "\n",
    "        # decide hopping\n",
    "        hopped = False\n",
    "        if switch_prob.real > np.random.rand():\n",
    "            \n",
    "            new_kinetic = 0.0\n",
    "            # check kinetic energy\n",
    "            cur_energy = energy_trace[t]\n",
    "            if on_surface1:\n",
    "                new_kinetic = cur_energy - e2(pos)\n",
    "            else:\n",
    "                new_kinetic = cur_energy - e1(pos)\n",
    "            # end if\n",
    "\n",
    "            if new_kinetic < 0:\n",
    "                hopped = False\n",
    "            else:\n",
    "                hopped = True\n",
    "            # end if\n",
    "\n",
    "            # switch surface if decide to hop\n",
    "            if hopped:\n",
    "\n",
    "                if on_surface1:\n",
    "                    surface = e2\n",
    "                    surface_der = e2der\n",
    "                else:\n",
    "                    surface = e1\n",
    "                    surface_der = e1der\n",
    "                # end if\n",
    "                on_surface1 = not on_surface1\n",
    "\n",
    "                # adjust velocity\n",
    "                vel = np.sign(vel) * np.sqrt(2.*new_kinetic/m)\n",
    "\n",
    "            # end if hopped\n",
    "\n",
    "        # end if switch_prob > rand()\n",
    "\n",
    "        # propagate ion forward\n",
    "        a0 = -surface_der(pos)/m\n",
    "        pos += vel*dt + 0.5*a0*dt*dt\n",
    "        a1 = -surface_der(pos)/m\n",
    "        vel += 0.5*(a0+a1)*dt\n",
    "        \n",
    "        if pos >= pos_max or pos <= pos_min:\n",
    "            break\n",
    "        # end if\n",
    "\n",
    "    # end for t\n",
    "    \n",
    "    transmission = False\n",
    "    reflection   = False\n",
    "    if (pos >= pos_max):\n",
    "        transmission = True\n",
    "    # end if\n",
    "    elif (pos <= pos_min):\n",
    "        reflection = True\n",
    "    # end if\n",
    "    \n",
    "    return pos_trace[:t],vel_trace[:t],pot_trace[:t],energy_trace[:t]\\\n",
    ",a11_trace[:t],a22_trace[:t],t\\\n",
    ",on_surface1,transmission,reflection,prob_trace[:t]\n",
    "# end def "
   ]
  },
  {
   "cell_type": "code",
   "execution_count": 13,
   "metadata": {
    "collapsed": false
   },
   "outputs": [],
   "source": [
    "# play with one trajectory\n",
    "#ptrace,vtrace,pot_trace,energy_trace,a11_trace,a22_trace,t\\\n",
    "#,on1,trans,ref,prob_trace = run1(-5.0,8.9/2000.,1.0,10000,dt=2.0)"
   ]
  },
  {
   "cell_type": "code",
   "execution_count": 58,
   "metadata": {
    "collapsed": false
   },
   "outputs": [],
   "source": [
    "# production\n",
    "klist = [2.5,4.5,10,15,20,25,30,35]\n",
    "ntrans1 = np.zeros(len(klist))\n",
    "ntrans2 = np.zeros(len(klist))\n",
    "nref1   = np.zeros(len(klist))\n",
    "nref2   = np.zeros(len(klist))\n",
    "not_finished = np.zeros(len(klist))\n",
    "\n",
    "ntraj = 200\n",
    "for i in range(len(klist)):\n",
    "    k = klist[i]\n",
    "    for j in range(ntraj):\n",
    "        vo = k/2000.\n",
    "        ptrace,vtrace,pot_trace,energy_trace,a11_trace,a22_trace,t\\\n",
    ",on1,trans,ref,prob_trace = run1(-5.0,vo,1.0,4000,dt=2.0)\n",
    "\n",
    "        if on1 and trans:\n",
    "            ntrans1[i] += 1\n",
    "        # end if\n",
    "        if on1 and ref:\n",
    "            nref1[i] += 1\n",
    "        # end if\n",
    "        \n",
    "        if (not on1) and trans:\n",
    "            ntrans2[i] += 1\n",
    "        # end if\n",
    "        if (not on1) and ref:\n",
    "            nref2[i] += 1\n",
    "        # end if\n",
    "        \n",
    "        if (not trans) and (not ref):\n",
    "            not_finished[i] += 1\n",
    "        # end if\n",
    "        \n",
    "    # end for j\n",
    "# end for i"
   ]
  },
  {
   "cell_type": "code",
   "execution_count": 68,
   "metadata": {
    "collapsed": false
   },
   "outputs": [
    {
     "data": {
      "image/png": "[encoded data removed]",
      "text/plain": [
       "<matplotlib.figure.Figure at 0x7faace414d90>"
      ]
     },
     "metadata": {},
     "output_type": "display_data"
    }
   ],
   "source": [
    "fig = plt.figure()\n",
    "plt.subplots_adjust(hspace=0.001)\n",
    "\n",
    "ax  = fig.add_subplot(311)\n",
    "\n",
    "\n",
    "ax.set_yticks([0,0.5,1])\n",
    "ax.set_ylim(-0.2,1.2)\n",
    "ax.plot(klist,ntrans1/ntraj,\"o-\")\n",
    "ax.set_ylabel(\"trans. on 1\")\n",
    "\n",
    "ax1 = fig.add_subplot(312,sharex=ax)\n",
    "ax1.set_yticks([0,0.5,1])\n",
    "ax1.set_ylim(-0.2,1.2)\n",
    "ax1.plot(klist,nref1/ntraj,\"o-\")\n",
    "ax1.set_ylabel(\"ref. on 1\",fontsize=12)\n",
    "\n",
    "ax2 = fig.add_subplot(313,sharex=ax)\n",
    "ax2.set_yticks([0,0.5,1])\n",
    "ax2.set_ylim(-0.2,1.2)\n",
    "ax2.plot(klist,ntrans2/ntraj,\"o-\")\n",
    "ax2.set_ylabel(\"trans. on 2\",fontsize=12)\n",
    "ax2.set_xlabel(\"$k_o$ (a.u.)\",fontsize=16)\n",
    "#plt.savefig(\"model-1-prob.eps\")"
   ]
  },
  {
   "cell_type": "code",
   "execution_count": null,
   "metadata": {
    "collapsed": true
   },
   "outputs": [],
   "source": []
  }
 ],
 "metadata": {
  "kernelspec": {
   "display_name": "Python 2",
   "language": "python",
   "name": "python2"
  },
  "language_info": {
   "codemirror_mode": {
    "name": "ipython",
    "version": 2
   },
   "file_extension": ".py",
   "mimetype": "text/x-python",
   "name": "python",
   "nbconvert_exporter": "python",
   "pygments_lexer": "ipython2",
   "version": "2.7.6"
  }
 },
 "nbformat": 4,
 "nbformat_minor": 0
}
